{
 "cells": [
  {
   "cell_type": "code",
   "execution_count": 127,
   "metadata": {},
   "outputs": [],
   "source": [
    "import pandas as pd\n",
    "import numpy as np \n",
    "import matplotlib.pyplot as plt\n",
    "from sklearn import linear_model\n",
    "import statsmodels.api as sm\n",
    "from sklearn import metrics \n",
    "from xgboost import XGBClassifier\n"
   ]
  },
  {
   "cell_type": "code",
   "execution_count": 128,
   "metadata": {},
   "outputs": [
    {
     "data": {
      "text/plain": [
       "(79853, 13)"
      ]
     },
     "execution_count": 128,
     "metadata": {},
     "output_type": "execute_result"
    }
   ],
   "source": [
    "df = pd.read_csv('E:/Projects/AV_Hackathon/train_ZoGVYWq.csv')\n",
    "df.shape"
   ]
  },
  {
   "cell_type": "markdown",
   "metadata": {},
   "source": [
    "### Exploratory Data Analysis"
   ]
  },
  {
   "cell_type": "code",
   "execution_count": 129,
   "metadata": {},
   "outputs": [
    {
     "data": {
      "text/plain": [
       "1    0.93741\n",
       "0    0.06259\n",
       "Name: renewal, dtype: float64"
      ]
     },
     "execution_count": 129,
     "metadata": {},
     "output_type": "execute_result"
    }
   ],
   "source": [
    "# Renewal perc\n",
    "(df['renewal'].value_counts())/df.shape[0]"
   ]
  },
  {
   "cell_type": "code",
   "execution_count": 130,
   "metadata": {},
   "outputs": [
    {
     "data": {
      "text/plain": [
       "id                                    int64\n",
       "perc_premium_paid_by_cash_credit    float64\n",
       "age_in_days                           int64\n",
       "Income                                int64\n",
       "Count_3-6_months_late               float64\n",
       "Count_6-12_months_late              float64\n",
       "Count_more_than_12_months_late      float64\n",
       "application_underwriting_score      float64\n",
       "no_of_premiums_paid                   int64\n",
       "sourcing_channel                     object\n",
       "residence_area_type                  object\n",
       "premium                               int64\n",
       "renewal                               int64\n",
       "dtype: object"
      ]
     },
     "execution_count": 130,
     "metadata": {},
     "output_type": "execute_result"
    }
   ],
   "source": [
    "df.dtypes"
   ]
  },
  {
   "cell_type": "code",
   "execution_count": 131,
   "metadata": {},
   "outputs": [
    {
     "data": {
      "text/plain": [
       "id                                     0\n",
       "perc_premium_paid_by_cash_credit       0\n",
       "age_in_days                            0\n",
       "Income                                 0\n",
       "Count_3-6_months_late                 97\n",
       "Count_6-12_months_late                97\n",
       "Count_more_than_12_months_late        97\n",
       "application_underwriting_score      2974\n",
       "no_of_premiums_paid                    0\n",
       "sourcing_channel                       0\n",
       "residence_area_type                    0\n",
       "premium                                0\n",
       "renewal                                0\n",
       "dtype: int64"
      ]
     },
     "execution_count": 131,
     "metadata": {},
     "output_type": "execute_result"
    }
   ],
   "source": [
    "df.isnull().sum()"
   ]
  },
  {
   "cell_type": "code",
   "execution_count": 132,
   "metadata": {},
   "outputs": [
    {
     "data": {
      "text/html": [
       "<div>\n",
       "<style>\n",
       "    .dataframe thead tr:only-child th {\n",
       "        text-align: right;\n",
       "    }\n",
       "\n",
       "    .dataframe thead th {\n",
       "        text-align: left;\n",
       "    }\n",
       "\n",
       "    .dataframe tbody tr th {\n",
       "        vertical-align: top;\n",
       "    }\n",
       "</style>\n",
       "<table border=\"1\" class=\"dataframe\">\n",
       "  <thead>\n",
       "    <tr style=\"text-align: right;\">\n",
       "      <th></th>\n",
       "      <th>id</th>\n",
       "      <th>perc_premium_paid_by_cash_credit</th>\n",
       "      <th>age_in_days</th>\n",
       "      <th>Income</th>\n",
       "      <th>Count_3-6_months_late</th>\n",
       "      <th>Count_6-12_months_late</th>\n",
       "      <th>Count_more_than_12_months_late</th>\n",
       "      <th>application_underwriting_score</th>\n",
       "      <th>no_of_premiums_paid</th>\n",
       "      <th>premium</th>\n",
       "      <th>renewal</th>\n",
       "    </tr>\n",
       "  </thead>\n",
       "  <tbody>\n",
       "    <tr>\n",
       "      <th>count</th>\n",
       "      <td>79853.000000</td>\n",
       "      <td>79853.000000</td>\n",
       "      <td>79853.000000</td>\n",
       "      <td>7.985300e+04</td>\n",
       "      <td>79756.000000</td>\n",
       "      <td>79756.000000</td>\n",
       "      <td>79756.000000</td>\n",
       "      <td>76879.000000</td>\n",
       "      <td>79853.000000</td>\n",
       "      <td>79853.000000</td>\n",
       "      <td>79853.000000</td>\n",
       "    </tr>\n",
       "    <tr>\n",
       "      <th>mean</th>\n",
       "      <td>57167.166368</td>\n",
       "      <td>0.314288</td>\n",
       "      <td>18846.696906</td>\n",
       "      <td>2.088472e+05</td>\n",
       "      <td>0.248671</td>\n",
       "      <td>0.078188</td>\n",
       "      <td>0.060008</td>\n",
       "      <td>99.067291</td>\n",
       "      <td>10.863887</td>\n",
       "      <td>10924.507533</td>\n",
       "      <td>0.937410</td>\n",
       "    </tr>\n",
       "    <tr>\n",
       "      <th>std</th>\n",
       "      <td>32928.970160</td>\n",
       "      <td>0.334915</td>\n",
       "      <td>5208.719136</td>\n",
       "      <td>4.965826e+05</td>\n",
       "      <td>0.691468</td>\n",
       "      <td>0.436507</td>\n",
       "      <td>0.312023</td>\n",
       "      <td>0.739799</td>\n",
       "      <td>5.170687</td>\n",
       "      <td>9401.676542</td>\n",
       "      <td>0.242226</td>\n",
       "    </tr>\n",
       "    <tr>\n",
       "      <th>min</th>\n",
       "      <td>2.000000</td>\n",
       "      <td>0.000000</td>\n",
       "      <td>7670.000000</td>\n",
       "      <td>2.403000e+04</td>\n",
       "      <td>0.000000</td>\n",
       "      <td>0.000000</td>\n",
       "      <td>0.000000</td>\n",
       "      <td>91.900000</td>\n",
       "      <td>2.000000</td>\n",
       "      <td>1200.000000</td>\n",
       "      <td>0.000000</td>\n",
       "    </tr>\n",
       "    <tr>\n",
       "      <th>25%</th>\n",
       "      <td>28640.000000</td>\n",
       "      <td>0.034000</td>\n",
       "      <td>14974.000000</td>\n",
       "      <td>1.080100e+05</td>\n",
       "      <td>0.000000</td>\n",
       "      <td>0.000000</td>\n",
       "      <td>0.000000</td>\n",
       "      <td>98.810000</td>\n",
       "      <td>7.000000</td>\n",
       "      <td>5400.000000</td>\n",
       "      <td>1.000000</td>\n",
       "    </tr>\n",
       "    <tr>\n",
       "      <th>50%</th>\n",
       "      <td>57262.000000</td>\n",
       "      <td>0.167000</td>\n",
       "      <td>18625.000000</td>\n",
       "      <td>1.665600e+05</td>\n",
       "      <td>0.000000</td>\n",
       "      <td>0.000000</td>\n",
       "      <td>0.000000</td>\n",
       "      <td>99.210000</td>\n",
       "      <td>10.000000</td>\n",
       "      <td>7500.000000</td>\n",
       "      <td>1.000000</td>\n",
       "    </tr>\n",
       "    <tr>\n",
       "      <th>75%</th>\n",
       "      <td>85632.000000</td>\n",
       "      <td>0.538000</td>\n",
       "      <td>22636.000000</td>\n",
       "      <td>2.520900e+05</td>\n",
       "      <td>0.000000</td>\n",
       "      <td>0.000000</td>\n",
       "      <td>0.000000</td>\n",
       "      <td>99.540000</td>\n",
       "      <td>14.000000</td>\n",
       "      <td>13800.000000</td>\n",
       "      <td>1.000000</td>\n",
       "    </tr>\n",
       "    <tr>\n",
       "      <th>max</th>\n",
       "      <td>114076.000000</td>\n",
       "      <td>1.000000</td>\n",
       "      <td>37602.000000</td>\n",
       "      <td>9.026260e+07</td>\n",
       "      <td>13.000000</td>\n",
       "      <td>17.000000</td>\n",
       "      <td>11.000000</td>\n",
       "      <td>99.890000</td>\n",
       "      <td>60.000000</td>\n",
       "      <td>60000.000000</td>\n",
       "      <td>1.000000</td>\n",
       "    </tr>\n",
       "  </tbody>\n",
       "</table>\n",
       "</div>"
      ],
      "text/plain": [
       "                  id  perc_premium_paid_by_cash_credit   age_in_days  \\\n",
       "count   79853.000000                      79853.000000  79853.000000   \n",
       "mean    57167.166368                          0.314288  18846.696906   \n",
       "std     32928.970160                          0.334915   5208.719136   \n",
       "min         2.000000                          0.000000   7670.000000   \n",
       "25%     28640.000000                          0.034000  14974.000000   \n",
       "50%     57262.000000                          0.167000  18625.000000   \n",
       "75%     85632.000000                          0.538000  22636.000000   \n",
       "max    114076.000000                          1.000000  37602.000000   \n",
       "\n",
       "             Income  Count_3-6_months_late  Count_6-12_months_late  \\\n",
       "count  7.985300e+04           79756.000000            79756.000000   \n",
       "mean   2.088472e+05               0.248671                0.078188   \n",
       "std    4.965826e+05               0.691468                0.436507   \n",
       "min    2.403000e+04               0.000000                0.000000   \n",
       "25%    1.080100e+05               0.000000                0.000000   \n",
       "50%    1.665600e+05               0.000000                0.000000   \n",
       "75%    2.520900e+05               0.000000                0.000000   \n",
       "max    9.026260e+07              13.000000               17.000000   \n",
       "\n",
       "       Count_more_than_12_months_late  application_underwriting_score  \\\n",
       "count                    79756.000000                    76879.000000   \n",
       "mean                         0.060008                       99.067291   \n",
       "std                          0.312023                        0.739799   \n",
       "min                          0.000000                       91.900000   \n",
       "25%                          0.000000                       98.810000   \n",
       "50%                          0.000000                       99.210000   \n",
       "75%                          0.000000                       99.540000   \n",
       "max                         11.000000                       99.890000   \n",
       "\n",
       "       no_of_premiums_paid       premium       renewal  \n",
       "count         79853.000000  79853.000000  79853.000000  \n",
       "mean             10.863887  10924.507533      0.937410  \n",
       "std               5.170687   9401.676542      0.242226  \n",
       "min               2.000000   1200.000000      0.000000  \n",
       "25%               7.000000   5400.000000      1.000000  \n",
       "50%              10.000000   7500.000000      1.000000  \n",
       "75%              14.000000  13800.000000      1.000000  \n",
       "max              60.000000  60000.000000      1.000000  "
      ]
     },
     "execution_count": 132,
     "metadata": {},
     "output_type": "execute_result"
    }
   ],
   "source": [
    "df.describe()"
   ]
  },
  {
   "cell_type": "code",
   "execution_count": 133,
   "metadata": {},
   "outputs": [
    {
     "name": "stdout",
     "output_type": "stream",
     "text": [
      "0.25    0.034\n",
      "0.35    0.067\n",
      "0.50    0.167\n",
      "0.75    0.538\n",
      "0.80    0.658\n",
      "0.95    1.000\n",
      "0.99    1.000\n",
      "Name: perc_premium_paid_by_cash_credit, dtype: float64\n",
      "         perc_premium_paid_by_cash_credit\n",
      "renewal                                  \n",
      "0                                0.626626\n",
      "1                                0.293433\n",
      "         perc_premium_paid_by_cash_credit\n",
      "renewal                                  \n",
      "0                                   0.728\n",
      "1                                   0.148\n",
      "0.0\n",
      "1.0\n"
     ]
    }
   ],
   "source": [
    "# Perc_premium - Policies renewed have less perc paid by cash or credit\n",
    "print(df['perc_premium_paid_by_cash_credit'].quantile([0.25,0.35,0.5,0.75,0.8,0.95,0.99]))\n",
    "print(df.groupby('renewal').aggregate({'perc_premium_paid_by_cash_credit' : 'mean'}))\n",
    "print(df.groupby('renewal').aggregate({'perc_premium_paid_by_cash_credit' : 'median'}))\n",
    "print(min(df.perc_premium_paid_by_cash_credit))\n",
    "print(max(df.perc_premium_paid_by_cash_credit))"
   ]
  },
  {
   "cell_type": "code",
   "execution_count": 134,
   "metadata": {},
   "outputs": [
    {
     "name": "stdout",
     "output_type": "stream",
     "text": [
      "0.10    12051.0\n",
      "0.25    14974.0\n",
      "0.35    16438.0\n",
      "0.50    18625.0\n",
      "0.75    22636.0\n",
      "0.80    23368.0\n",
      "0.95    27754.0\n",
      "0.99    31396.0\n",
      "Name: age_in_days, dtype: float64\n",
      "          age_in_days\n",
      "renewal              \n",
      "0        16929.642657\n",
      "1        18974.696867\n",
      "         age_in_days\n",
      "renewal             \n",
      "0            16800.5\n",
      "1            18630.0\n"
     ]
    }
   ],
   "source": [
    "# Age of policy holders who renewed is slightly higher\n",
    "print(df['age_in_days'].quantile([0.1,0.25,0.35,0.5,0.75,0.8,0.95,0.99]))\n",
    "print(df.groupby('renewal').aggregate({'age_in_days' : 'mean'}))\n",
    "print(df.groupby('renewal').aggregate({'age_in_days' : 'median'}))"
   ]
  },
  {
   "cell_type": "code",
   "execution_count": 135,
   "metadata": {},
   "outputs": [
    {
     "name": "stdout",
     "output_type": "stream",
     "text": [
      "0.100    32.993840\n",
      "0.250    40.996578\n",
      "0.350    45.004791\n",
      "0.500    50.992471\n",
      "0.750    61.973990\n",
      "0.800    63.978097\n",
      "0.950    75.986311\n",
      "0.990    85.957563\n",
      "0.999    91.975765\n",
      "Name: age_in_years, dtype: float64\n",
      "         age_in_years\n",
      "renewal              \n",
      "0           46.350835\n",
      "1           51.949889\n",
      "         age_in_years\n",
      "renewal              \n",
      "0           45.997262\n",
      "1           51.006160\n",
      "20.9993155373\n",
      "102.948665298\n"
     ]
    }
   ],
   "source": [
    "# Adding a column - age_in_years\n",
    "df['age_in_years'] = df['age_in_days']/365.25\n",
    "print(df['age_in_years'].quantile([0.1,0.25,0.35,0.5,0.75,0.8,0.95,0.99,0.999]))\n",
    "print(df.groupby('renewal').aggregate({'age_in_years' : 'mean'}))\n",
    "print(df.groupby('renewal').aggregate({'age_in_years' : 'median'}))\n",
    "print(min(df.age_in_years))\n",
    "print(max(df.age_in_years))"
   ]
  },
  {
   "cell_type": "code",
   "execution_count": 136,
   "metadata": {},
   "outputs": [
    {
     "name": "stdout",
     "output_type": "stream",
     "text": [
      "0.100      71200.00\n",
      "0.250     108010.00\n",
      "0.350     130100.00\n",
      "0.500     166560.00\n",
      "0.750     252090.00\n",
      "0.800     279030.00\n",
      "0.950     450050.00\n",
      "0.990     771078.00\n",
      "0.998    1826578.88\n",
      "Name: Income, dtype: float64\n",
      "                Income\n",
      "renewal               \n",
      "0        177058.799520\n",
      "1        210969.651727\n",
      "         Income\n",
      "renewal        \n",
      "0        138100\n",
      "1        168870\n",
      "24030\n",
      "90262600\n"
     ]
    }
   ],
   "source": [
    "print(df['Income'].quantile([0.1,0.25,0.35,0.5,0.75,0.8,0.95,0.99,0.998]))\n",
    "print(df.groupby('renewal').aggregate({'Income' : 'mean'}))\n",
    "print(df.groupby('renewal').aggregate({'Income' : 'median'}))\n",
    "print(min(df.Income))\n",
    "print(max(df.Income))"
   ]
  },
  {
   "cell_type": "code",
   "execution_count": 137,
   "metadata": {},
   "outputs": [
    {
     "name": "stdout",
     "output_type": "stream",
     "text": [
      "         Count_3-6_months_late  Count_6-12_months_late  \\\n",
      "renewal                                                  \n",
      "0                       4536.0                  2787.0   \n",
      "1                      15297.0                  3449.0   \n",
      "\n",
      "         Count_more_than_12_months_late  \n",
      "renewal                                  \n",
      "0                                1738.0  \n",
      "1                                3048.0  \n"
     ]
    }
   ],
   "source": [
    "print(df.groupby('renewal').aggregate({'Count_3-6_months_late' : 'sum','Count_6-12_months_late' : 'sum','Count_more_than_12_months_late' : 'sum'}))"
   ]
  },
  {
   "cell_type": "code",
   "execution_count": 138,
   "metadata": {},
   "outputs": [
    {
     "name": "stdout",
     "output_type": "stream",
     "text": [
      "0.100     5.0\n",
      "0.250     7.0\n",
      "0.350     8.0\n",
      "0.500    10.0\n",
      "0.750    14.0\n",
      "0.800    15.0\n",
      "0.950    20.0\n",
      "0.990    27.0\n",
      "0.999    37.0\n",
      "Name: no_of_premiums_paid, dtype: float64\n",
      "         no_of_premiums_paid\n",
      "renewal                     \n",
      "0                  10.410364\n",
      "1                  10.894169\n",
      "         no_of_premiums_paid\n",
      "renewal                     \n",
      "0                         10\n",
      "1                         10\n",
      "2\n",
      "60\n"
     ]
    }
   ],
   "source": [
    "# No difference in no_of_premiums paid among the customers\n",
    "print(df['no_of_premiums_paid'].quantile([0.1,0.25,0.35,0.5,0.75,0.8,0.95,0.99,0.999]))\n",
    "print(df.groupby('renewal').aggregate({'no_of_premiums_paid' : 'mean'}))\n",
    "print(df.groupby('renewal').aggregate({'no_of_premiums_paid' : 'median'}))\n",
    "print(min(df.no_of_premiums_paid))\n",
    "print(max(df.no_of_premiums_paid))"
   ]
  },
  {
   "cell_type": "code",
   "execution_count": 139,
   "metadata": {},
   "outputs": [
    {
     "name": "stdout",
     "output_type": "stream",
     "text": [
      "0.100    98.29\n",
      "0.250    98.81\n",
      "0.350    99.00\n",
      "0.500    99.21\n",
      "0.750    99.54\n",
      "0.800    99.61\n",
      "0.950    99.87\n",
      "0.990    99.89\n",
      "0.999    99.89\n",
      "Name: application_underwriting_score, dtype: float64\n",
      "         application_underwriting_score\n",
      "renewal                                \n",
      "0                             98.870256\n",
      "1                             99.080407\n",
      "         application_underwriting_score\n",
      "renewal                                \n",
      "0                                 99.05\n",
      "1                                 99.22\n",
      "91.9\n",
      "99.89\n"
     ]
    }
   ],
   "source": [
    "# No difference in application_underwriting_score among the customers\n",
    "print(df['application_underwriting_score'].quantile([0.1,0.25,0.35,0.5,0.75,0.8,0.95,0.99,0.999]))\n",
    "print(df.groupby('renewal').aggregate({'application_underwriting_score' : 'mean'}))\n",
    "print(df.groupby('renewal').aggregate({'application_underwriting_score' : 'median'}))\n",
    "print(min(df.application_underwriting_score))\n",
    "print(max(df.application_underwriting_score))\n"
   ]
  },
  {
   "cell_type": "code",
   "execution_count": 140,
   "metadata": {},
   "outputs": [
    {
     "name": "stdout",
     "output_type": "stream",
     "text": [
      "0.100     3300.0\n",
      "0.250     5400.0\n",
      "0.350     5700.0\n",
      "0.500     7500.0\n",
      "0.750    13800.0\n",
      "0.800    15900.0\n",
      "0.950    28500.0\n",
      "0.990    51600.0\n",
      "0.999    60000.0\n",
      "Name: premium, dtype: float64\n",
      "              premium\n",
      "renewal              \n",
      "0         9599.519808\n",
      "1        11012.975753\n",
      "         premium\n",
      "renewal         \n",
      "0           7500\n",
      "1           7500\n",
      "1200\n",
      "60000\n"
     ]
    }
   ],
   "source": [
    "# Not much difference in premium\n",
    "print(df['premium'].quantile([0.1,0.25,0.35,0.5,0.75,0.8,0.95,0.99,0.999]))\n",
    "print(df.groupby('renewal').aggregate({'premium' : 'mean'}))\n",
    "print(df.groupby('renewal').aggregate({'premium' : 'median'}))\n",
    "print(min(df.premium))\n",
    "print(max(df.premium))"
   ]
  },
  {
   "cell_type": "code",
   "execution_count": 141,
   "metadata": {},
   "outputs": [
    {
     "data": {
      "text/plain": [
       "renewal  sourcing_channel\n",
       "0        A                   0.469988\n",
       "         B                   0.213285\n",
       "         C                   0.180672\n",
       "         D                   0.126851\n",
       "         E                   0.009204\n",
       "1        A                   0.544853\n",
       "         B                   0.206346\n",
       "         C                   0.148768\n",
       "         D                   0.092512\n",
       "         E                   0.007521\n",
       "Name: id, dtype: float64"
      ]
     },
     "execution_count": 141,
     "metadata": {},
     "output_type": "execute_result"
    }
   ],
   "source": [
    "# Sourcing Channel A is the best for renewal\n",
    "df.groupby(['renewal','sourcing_channel'])['id'].count()/df.groupby('renewal')['id'].count()"
   ]
  },
  {
   "cell_type": "code",
   "execution_count": 142,
   "metadata": {},
   "outputs": [
    {
     "data": {
      "text/plain": [
       "renewal  residence_area_type\n",
       "0        Rural                  0.399760\n",
       "         Urban                  0.600240\n",
       "1        Rural                  0.396393\n",
       "         Urban                  0.603607\n",
       "Name: id, dtype: float64"
      ]
     },
     "execution_count": 142,
     "metadata": {},
     "output_type": "execute_result"
    }
   ],
   "source": [
    "#'residence_area_type' is not much different among renewal/non-renewal customers  \n",
    "df.groupby(['renewal','residence_area_type'])['id'].count()/df.groupby('renewal')['id'].count()"
   ]
  },
  {
   "cell_type": "markdown",
   "metadata": {},
   "source": [
    "### Data Treatment"
   ]
  },
  {
   "cell_type": "code",
   "execution_count": 143,
   "metadata": {
    "collapsed": true
   },
   "outputs": [],
   "source": [
    "# One-Hot Encoding of categorical columns\n",
    "df2 = df.copy(deep = True)\n",
    "cat = pd.get_dummies(df2[['residence_area_type','sourcing_channel']])\n",
    "df2 = pd.concat([df2[df2.columns.difference(['residence_area_type','sourcing_channel'])],cat[cat.columns.difference([\n",
    "'residence_area_type_Rural','sourcing_channel_E'])]],axis = 1)"
   ]
  },
  {
   "cell_type": "code",
   "execution_count": 144,
   "metadata": {
    "collapsed": true
   },
   "outputs": [],
   "source": [
    "df2.set_index('id',inplace = True)"
   ]
  },
  {
   "cell_type": "code",
   "execution_count": 145,
   "metadata": {},
   "outputs": [],
   "source": [
    "# Mean Imputation\n",
    "df2.loc[df2['Count_3-6_months_late'].isnull(),'Count_3-6_months_late'] = df2['Count_3-6_months_late'].mean()\n",
    "df2.loc[df2['Count_6-12_months_late'].isnull(),'Count_6-12_months_late'] = df2['Count_6-12_months_late'].mean()\n",
    "df2.loc[df2['Count_more_than_12_months_late'].isnull(),'Count_more_than_12_months_late'] = df2['Count_more_than_12_months_late'].mean()\n",
    "df2.loc[df2['application_underwriting_score'].isnull(),'application_underwriting_score'] = df2['application_underwriting_score'].mean()\n"
   ]
  },
  {
   "cell_type": "code",
   "execution_count": 146,
   "metadata": {
    "collapsed": true
   },
   "outputs": [],
   "source": [
    "df2['late_payment'] = df2['Count_3-6_months_late'] + df2['Count_6-12_months_late'] + df2['Count_more_than_12_months_late']"
   ]
  },
  {
   "cell_type": "code",
   "execution_count": 147,
   "metadata": {
    "collapsed": true
   },
   "outputs": [],
   "source": [
    "df2['cash_payment'] = df2['perc_premium_paid_by_cash_credit'] * df2['premium']"
   ]
  },
  {
   "cell_type": "code",
   "execution_count": 148,
   "metadata": {
    "collapsed": true
   },
   "outputs": [],
   "source": [
    "df2['correct_payment'] = df2['no_of_premiums_paid'] - df2['late_payment']"
   ]
  },
  {
   "cell_type": "markdown",
   "metadata": {},
   "source": [
    "### XgBoost Classifier with Cross Validation"
   ]
  },
  {
   "cell_type": "code",
   "execution_count": 149,
   "metadata": {},
   "outputs": [
    {
     "name": "stdout",
     "output_type": "stream",
     "text": [
      "[0.83705305803167485, 0.84318321879978131, 0.83823098423225906, 0.82860124185195672, 0.86346281544967451, 0.84080803013105687, 0.85079558648890996, 0.85175150262960175, 0.83499075297804481, 0.84984554425902936]\n",
      "0.843872273485\n"
     ]
    }
   ],
   "source": [
    "from sklearn.model_selection import KFold # import KFold\n",
    "kf = KFold(n_splits=10) # Define the split - into 2 folds \n",
    "model_xgb = XGBClassifier(learning_rate=0.1)\n",
    "X = df2[df2.columns.difference(['renewal'])]\n",
    "Y = df2.renewal\n",
    "res=[]\n",
    "for train_index, test_index in kf.split(X):\n",
    "    X_train_cv, X_test_cv = X[X.index.isin(train_index)], X[X.index.isin(test_index)]\n",
    "    y_train_cv, y_test_cv = Y[Y.index.isin(train_index)], Y[Y.index.isin(test_index)]\n",
    "    pred_cv_xgb = model_xgb.fit(X_train_cv,y_train_cv).predict_proba(X_test_cv)[:,1]\n",
    "    res.append(metrics.roc_auc_score(y_test_cv,pred_cv_xgb))\n",
    "print(res)\n",
    "print(np.mean(res))"
   ]
  },
  {
   "cell_type": "code",
   "execution_count": 150,
   "metadata": {},
   "outputs": [
    {
     "data": {
      "text/html": [
       "<div>\n",
       "<style>\n",
       "    .dataframe thead tr:only-child th {\n",
       "        text-align: right;\n",
       "    }\n",
       "\n",
       "    .dataframe thead th {\n",
       "        text-align: left;\n",
       "    }\n",
       "\n",
       "    .dataframe tbody tr th {\n",
       "        vertical-align: top;\n",
       "    }\n",
       "</style>\n",
       "<table border=\"1\" class=\"dataframe\">\n",
       "  <thead>\n",
       "    <tr style=\"text-align: right;\">\n",
       "      <th></th>\n",
       "      <th>features</th>\n",
       "      <th>importance</th>\n",
       "    </tr>\n",
       "  </thead>\n",
       "  <tbody>\n",
       "    <tr>\n",
       "      <th>0</th>\n",
       "      <td>Count_3-6_months_late</td>\n",
       "      <td>0.005882</td>\n",
       "    </tr>\n",
       "    <tr>\n",
       "      <th>1</th>\n",
       "      <td>Count_6-12_months_late</td>\n",
       "      <td>0.054412</td>\n",
       "    </tr>\n",
       "    <tr>\n",
       "      <th>2</th>\n",
       "      <td>Count_more_than_12_months_late</td>\n",
       "      <td>0.051471</td>\n",
       "    </tr>\n",
       "    <tr>\n",
       "      <th>3</th>\n",
       "      <td>Income</td>\n",
       "      <td>0.097059</td>\n",
       "    </tr>\n",
       "    <tr>\n",
       "      <th>4</th>\n",
       "      <td>age_in_days</td>\n",
       "      <td>0.135294</td>\n",
       "    </tr>\n",
       "    <tr>\n",
       "      <th>5</th>\n",
       "      <td>age_in_years</td>\n",
       "      <td>0.000000</td>\n",
       "    </tr>\n",
       "    <tr>\n",
       "      <th>6</th>\n",
       "      <td>application_underwriting_score</td>\n",
       "      <td>0.154412</td>\n",
       "    </tr>\n",
       "    <tr>\n",
       "      <th>7</th>\n",
       "      <td>cash_payment</td>\n",
       "      <td>0.044118</td>\n",
       "    </tr>\n",
       "    <tr>\n",
       "      <th>8</th>\n",
       "      <td>correct_payment</td>\n",
       "      <td>0.102941</td>\n",
       "    </tr>\n",
       "    <tr>\n",
       "      <th>9</th>\n",
       "      <td>late_payment</td>\n",
       "      <td>0.138235</td>\n",
       "    </tr>\n",
       "    <tr>\n",
       "      <th>10</th>\n",
       "      <td>no_of_premiums_paid</td>\n",
       "      <td>0.044118</td>\n",
       "    </tr>\n",
       "    <tr>\n",
       "      <th>11</th>\n",
       "      <td>perc_premium_paid_by_cash_credit</td>\n",
       "      <td>0.151471</td>\n",
       "    </tr>\n",
       "    <tr>\n",
       "      <th>12</th>\n",
       "      <td>premium</td>\n",
       "      <td>0.011765</td>\n",
       "    </tr>\n",
       "    <tr>\n",
       "      <th>13</th>\n",
       "      <td>residence_area_type_Urban</td>\n",
       "      <td>0.000000</td>\n",
       "    </tr>\n",
       "    <tr>\n",
       "      <th>14</th>\n",
       "      <td>sourcing_channel_A</td>\n",
       "      <td>0.000000</td>\n",
       "    </tr>\n",
       "    <tr>\n",
       "      <th>15</th>\n",
       "      <td>sourcing_channel_B</td>\n",
       "      <td>0.001471</td>\n",
       "    </tr>\n",
       "    <tr>\n",
       "      <th>16</th>\n",
       "      <td>sourcing_channel_C</td>\n",
       "      <td>0.005882</td>\n",
       "    </tr>\n",
       "    <tr>\n",
       "      <th>17</th>\n",
       "      <td>sourcing_channel_D</td>\n",
       "      <td>0.001471</td>\n",
       "    </tr>\n",
       "  </tbody>\n",
       "</table>\n",
       "</div>"
      ],
      "text/plain": [
       "                            features  importance\n",
       "0              Count_3-6_months_late    0.005882\n",
       "1             Count_6-12_months_late    0.054412\n",
       "2     Count_more_than_12_months_late    0.051471\n",
       "3                             Income    0.097059\n",
       "4                        age_in_days    0.135294\n",
       "5                       age_in_years    0.000000\n",
       "6     application_underwriting_score    0.154412\n",
       "7                       cash_payment    0.044118\n",
       "8                    correct_payment    0.102941\n",
       "9                       late_payment    0.138235\n",
       "10               no_of_premiums_paid    0.044118\n",
       "11  perc_premium_paid_by_cash_credit    0.151471\n",
       "12                           premium    0.011765\n",
       "13         residence_area_type_Urban    0.000000\n",
       "14                sourcing_channel_A    0.000000\n",
       "15                sourcing_channel_B    0.001471\n",
       "16                sourcing_channel_C    0.005882\n",
       "17                sourcing_channel_D    0.001471"
      ]
     },
     "execution_count": 150,
     "metadata": {},
     "output_type": "execute_result"
    }
   ],
   "source": [
    "pd.DataFrame({'features': X_train_cv.columns,'importance' : model_xgb.feature_importances_})"
   ]
  },
  {
   "cell_type": "markdown",
   "metadata": {},
   "source": [
    "### Test Data Treatment"
   ]
  },
  {
   "cell_type": "code",
   "execution_count": 151,
   "metadata": {},
   "outputs": [
    {
     "data": {
      "text/plain": [
       "(34224, 12)"
      ]
     },
     "execution_count": 151,
     "metadata": {},
     "output_type": "execute_result"
    }
   ],
   "source": [
    "df_test = pd.read_csv('E:/Projects/AV_Hackathon/test_66516Ee.csv')\n",
    "df_test.shape"
   ]
  },
  {
   "cell_type": "code",
   "execution_count": 152,
   "metadata": {},
   "outputs": [
    {
     "data": {
      "text/plain": [
       "id                                     0\n",
       "perc_premium_paid_by_cash_credit       0\n",
       "age_in_days                            0\n",
       "Income                                 0\n",
       "Count_3-6_months_late                 31\n",
       "Count_6-12_months_late                31\n",
       "Count_more_than_12_months_late        31\n",
       "application_underwriting_score      1323\n",
       "no_of_premiums_paid                    0\n",
       "sourcing_channel                       0\n",
       "residence_area_type                    0\n",
       "premium                                0\n",
       "dtype: int64"
      ]
     },
     "execution_count": 152,
     "metadata": {},
     "output_type": "execute_result"
    }
   ],
   "source": [
    "df_test.isnull().sum()"
   ]
  },
  {
   "cell_type": "code",
   "execution_count": 153,
   "metadata": {
    "collapsed": true
   },
   "outputs": [],
   "source": [
    "df_test['age_in_years'] = df_test['age_in_days']/365.25"
   ]
  },
  {
   "cell_type": "code",
   "execution_count": 154,
   "metadata": {
    "collapsed": true
   },
   "outputs": [],
   "source": [
    "df_test.set_index('id',inplace = True)"
   ]
  },
  {
   "cell_type": "code",
   "execution_count": 155,
   "metadata": {},
   "outputs": [
    {
     "data": {
      "text/html": [
       "<div>\n",
       "<style>\n",
       "    .dataframe thead tr:only-child th {\n",
       "        text-align: right;\n",
       "    }\n",
       "\n",
       "    .dataframe thead th {\n",
       "        text-align: left;\n",
       "    }\n",
       "\n",
       "    .dataframe tbody tr th {\n",
       "        vertical-align: top;\n",
       "    }\n",
       "</style>\n",
       "<table border=\"1\" class=\"dataframe\">\n",
       "  <thead>\n",
       "    <tr style=\"text-align: right;\">\n",
       "      <th></th>\n",
       "      <th>perc_premium_paid_by_cash_credit</th>\n",
       "      <th>age_in_days</th>\n",
       "      <th>Income</th>\n",
       "      <th>Count_3-6_months_late</th>\n",
       "      <th>Count_6-12_months_late</th>\n",
       "      <th>Count_more_than_12_months_late</th>\n",
       "      <th>application_underwriting_score</th>\n",
       "      <th>no_of_premiums_paid</th>\n",
       "      <th>premium</th>\n",
       "      <th>age_in_years</th>\n",
       "    </tr>\n",
       "  </thead>\n",
       "  <tbody>\n",
       "    <tr>\n",
       "      <th>count</th>\n",
       "      <td>34224.000000</td>\n",
       "      <td>34224.000000</td>\n",
       "      <td>3.422400e+04</td>\n",
       "      <td>34193.000000</td>\n",
       "      <td>34193.000000</td>\n",
       "      <td>34193.000000</td>\n",
       "      <td>32901.000000</td>\n",
       "      <td>34224.000000</td>\n",
       "      <td>34224.000000</td>\n",
       "      <td>34224.000000</td>\n",
       "    </tr>\n",
       "    <tr>\n",
       "      <th>mean</th>\n",
       "      <td>0.314457</td>\n",
       "      <td>18824.215346</td>\n",
       "      <td>2.028201e+05</td>\n",
       "      <td>0.238733</td>\n",
       "      <td>0.080718</td>\n",
       "      <td>0.058111</td>\n",
       "      <td>99.061898</td>\n",
       "      <td>10.890428</td>\n",
       "      <td>10834.721248</td>\n",
       "      <td>51.537893</td>\n",
       "    </tr>\n",
       "    <tr>\n",
       "      <th>std</th>\n",
       "      <td>0.334059</td>\n",
       "      <td>5246.525604</td>\n",
       "      <td>2.702536e+05</td>\n",
       "      <td>0.686162</td>\n",
       "      <td>0.454634</td>\n",
       "      <td>0.307046</td>\n",
       "      <td>0.742942</td>\n",
       "      <td>5.216867</td>\n",
       "      <td>9263.074506</td>\n",
       "      <td>14.364204</td>\n",
       "    </tr>\n",
       "    <tr>\n",
       "      <th>min</th>\n",
       "      <td>0.000000</td>\n",
       "      <td>7671.000000</td>\n",
       "      <td>2.403000e+04</td>\n",
       "      <td>0.000000</td>\n",
       "      <td>0.000000</td>\n",
       "      <td>0.000000</td>\n",
       "      <td>91.900000</td>\n",
       "      <td>2.000000</td>\n",
       "      <td>1200.000000</td>\n",
       "      <td>21.002053</td>\n",
       "    </tr>\n",
       "    <tr>\n",
       "      <th>25%</th>\n",
       "      <td>0.034000</td>\n",
       "      <td>14972.000000</td>\n",
       "      <td>1.063975e+05</td>\n",
       "      <td>0.000000</td>\n",
       "      <td>0.000000</td>\n",
       "      <td>0.000000</td>\n",
       "      <td>98.800000</td>\n",
       "      <td>7.000000</td>\n",
       "      <td>5400.000000</td>\n",
       "      <td>40.991102</td>\n",
       "    </tr>\n",
       "    <tr>\n",
       "      <th>50%</th>\n",
       "      <td>0.169000</td>\n",
       "      <td>18623.000000</td>\n",
       "      <td>1.650700e+05</td>\n",
       "      <td>0.000000</td>\n",
       "      <td>0.000000</td>\n",
       "      <td>0.000000</td>\n",
       "      <td>99.210000</td>\n",
       "      <td>10.000000</td>\n",
       "      <td>7500.000000</td>\n",
       "      <td>50.986995</td>\n",
       "    </tr>\n",
       "    <tr>\n",
       "      <th>75%</th>\n",
       "      <td>0.540000</td>\n",
       "      <td>22636.000000</td>\n",
       "      <td>2.500200e+05</td>\n",
       "      <td>0.000000</td>\n",
       "      <td>0.000000</td>\n",
       "      <td>0.000000</td>\n",
       "      <td>99.530000</td>\n",
       "      <td>14.000000</td>\n",
       "      <td>13800.000000</td>\n",
       "      <td>61.973990</td>\n",
       "    </tr>\n",
       "    <tr>\n",
       "      <th>max</th>\n",
       "      <td>1.000000</td>\n",
       "      <td>35785.000000</td>\n",
       "      <td>2.191455e+07</td>\n",
       "      <td>12.000000</td>\n",
       "      <td>10.000000</td>\n",
       "      <td>7.000000</td>\n",
       "      <td>99.890000</td>\n",
       "      <td>59.000000</td>\n",
       "      <td>60000.000000</td>\n",
       "      <td>97.973990</td>\n",
       "    </tr>\n",
       "  </tbody>\n",
       "</table>\n",
       "</div>"
      ],
      "text/plain": [
       "       perc_premium_paid_by_cash_credit   age_in_days        Income  \\\n",
       "count                      34224.000000  34224.000000  3.422400e+04   \n",
       "mean                           0.314457  18824.215346  2.028201e+05   \n",
       "std                            0.334059   5246.525604  2.702536e+05   \n",
       "min                            0.000000   7671.000000  2.403000e+04   \n",
       "25%                            0.034000  14972.000000  1.063975e+05   \n",
       "50%                            0.169000  18623.000000  1.650700e+05   \n",
       "75%                            0.540000  22636.000000  2.500200e+05   \n",
       "max                            1.000000  35785.000000  2.191455e+07   \n",
       "\n",
       "       Count_3-6_months_late  Count_6-12_months_late  \\\n",
       "count           34193.000000            34193.000000   \n",
       "mean                0.238733                0.080718   \n",
       "std                 0.686162                0.454634   \n",
       "min                 0.000000                0.000000   \n",
       "25%                 0.000000                0.000000   \n",
       "50%                 0.000000                0.000000   \n",
       "75%                 0.000000                0.000000   \n",
       "max                12.000000               10.000000   \n",
       "\n",
       "       Count_more_than_12_months_late  application_underwriting_score  \\\n",
       "count                    34193.000000                    32901.000000   \n",
       "mean                         0.058111                       99.061898   \n",
       "std                          0.307046                        0.742942   \n",
       "min                          0.000000                       91.900000   \n",
       "25%                          0.000000                       98.800000   \n",
       "50%                          0.000000                       99.210000   \n",
       "75%                          0.000000                       99.530000   \n",
       "max                          7.000000                       99.890000   \n",
       "\n",
       "       no_of_premiums_paid       premium  age_in_years  \n",
       "count         34224.000000  34224.000000  34224.000000  \n",
       "mean             10.890428  10834.721248     51.537893  \n",
       "std               5.216867   9263.074506     14.364204  \n",
       "min               2.000000   1200.000000     21.002053  \n",
       "25%               7.000000   5400.000000     40.991102  \n",
       "50%              10.000000   7500.000000     50.986995  \n",
       "75%              14.000000  13800.000000     61.973990  \n",
       "max              59.000000  60000.000000     97.973990  "
      ]
     },
     "execution_count": 155,
     "metadata": {},
     "output_type": "execute_result"
    }
   ],
   "source": [
    "df_test.describe()"
   ]
  },
  {
   "cell_type": "code",
   "execution_count": 156,
   "metadata": {
    "collapsed": true
   },
   "outputs": [],
   "source": [
    "df_test.loc[df_test['Count_3-6_months_late'].isnull(),'Count_3-6_months_late'] = df_test['Count_3-6_months_late'].mean()\n",
    "df_test.loc[df_test['Count_6-12_months_late'].isnull(),'Count_6-12_months_late'] = df_test['Count_6-12_months_late'].mean()\n",
    "df_test.loc[df_test['Count_more_than_12_months_late'].isnull(),'Count_more_than_12_months_late'] = df_test['Count_more_than_12_months_late'].mean()\n",
    "df_test.loc[df_test['application_underwriting_score'].isnull(),'application_underwriting_score'] = df_test['application_underwriting_score'].mean()\n"
   ]
  },
  {
   "cell_type": "code",
   "execution_count": 157,
   "metadata": {
    "collapsed": true
   },
   "outputs": [],
   "source": [
    "df_test['late_payment'] = df_test['Count_3-6_months_late'] + df_test['Count_6-12_months_late'] + df_test['Count_more_than_12_months_late']"
   ]
  },
  {
   "cell_type": "code",
   "execution_count": 158,
   "metadata": {
    "collapsed": true
   },
   "outputs": [],
   "source": [
    "df_test['cash_payment'] = df_test['perc_premium_paid_by_cash_credit'] * df_test['premium']"
   ]
  },
  {
   "cell_type": "code",
   "execution_count": 159,
   "metadata": {
    "collapsed": true
   },
   "outputs": [],
   "source": [
    "df_test['correct_payment'] = df_test['no_of_premiums_paid'] - df_test['late_payment']"
   ]
  },
  {
   "cell_type": "code",
   "execution_count": 160,
   "metadata": {
    "collapsed": true
   },
   "outputs": [],
   "source": [
    "cat = pd.get_dummies(df_test[['residence_area_type','sourcing_channel']])\n",
    "df_test = pd.concat([df_test[df_test.columns.difference(['residence_area_type','sourcing_channel'])],cat[cat.columns.difference([\n",
    "'residence_area_type_Rural','sourcing_channel_E'])]],axis = 1)"
   ]
  },
  {
   "cell_type": "code",
   "execution_count": 161,
   "metadata": {
    "collapsed": true
   },
   "outputs": [],
   "source": [
    "df_test = df_test[df_test.columns.difference(['renewal','incentives'])]"
   ]
  },
  {
   "cell_type": "code",
   "execution_count": 162,
   "metadata": {},
   "outputs": [],
   "source": [
    "test_proba_cv = model_xgb.predict_proba(df_test)[:,1]\n",
    "df_test['renewal'] = test_proba_cv"
   ]
  },
  {
   "cell_type": "markdown",
   "metadata": {},
   "source": [
    "### Incentives set as 2% of Premium"
   ]
  },
  {
   "cell_type": "code",
   "execution_count": 163,
   "metadata": {
    "collapsed": true
   },
   "outputs": [],
   "source": [
    "df_test['incentives'] = 0.02 * df_test['premium']"
   ]
  },
  {
   "cell_type": "code",
   "execution_count": 164,
   "metadata": {
    "collapsed": true
   },
   "outputs": [],
   "source": [
    "df_test[['renewal','incentives']].to_csv('E:/Projects/AV_Hackathon/final_col.csv')"
   ]
  }
 ],
 "metadata": {
  "kernelspec": {
   "display_name": "Python 3",
   "language": "python",
   "name": "python3"
  },
  "language_info": {
   "codemirror_mode": {
    "name": "ipython",
    "version": 3
   },
   "file_extension": ".py",
   "mimetype": "text/x-python",
   "name": "python",
   "nbconvert_exporter": "python",
   "pygments_lexer": "ipython3",
   "version": "3.6.1"
  }
 },
 "nbformat": 4,
 "nbformat_minor": 2
}
